{
 "metadata": {
  "name": "",
  "signature": "sha256:f95d50b3abd5dc694309bb15b01ad17d5b2269d03da61295961b5e7daef40de5"
 },
 "nbformat": 3,
 "nbformat_minor": 0,
 "worksheets": [
  {
   "cells": [
    {
     "cell_type": "heading",
     "level": 1,
     "metadata": {},
     "source": [
      "quant-econ Solutions: The Lucas Asset Pricing Model"
     ]
    },
    {
     "cell_type": "markdown",
     "metadata": {},
     "source": [
      "Solutions for http://quant-econ.net/py/markov_asset.html"
     ]
    },
    {
     "cell_type": "code",
     "collapsed": false,
     "input": [
      "%matplotlib inline"
     ],
     "language": "python",
     "metadata": {},
     "outputs": [],
     "prompt_number": 2
    },
    {
     "cell_type": "code",
     "collapsed": false,
     "input": [
      "from __future__ import division  # Omit for Python 3.x\n",
      "import numpy as np\n",
      "import matplotlib.pyplot as plt\n",
      "from quantecon.models import AssetPrices"
     ],
     "language": "python",
     "metadata": {},
     "outputs": [],
     "prompt_number": 3
    },
    {
     "cell_type": "heading",
     "level": 2,
     "metadata": {},
     "source": [
      "Exercise 1"
     ]
    },
    {
     "cell_type": "code",
     "collapsed": false,
     "input": [
      "# == Define primitives == #\n",
      "n = 5\n",
      "P = 0.0125 * np.ones((n, n))\n",
      "P += np.diag(0.95 - 0.0125 * np.ones(5))\n",
      "s = np.array([1.05, 1.025, 1.0, 0.975, 0.95])\n",
      "gamma = 2.0\n",
      "beta = 0.94\n",
      "zeta = 1.0\n",
      "\n",
      "ap = AssetPrices(beta, P, s, gamma)\n",
      "\n",
      "v = ap.tree_price()\n",
      "print(\"Lucas Tree Prices: \", v)\n",
      "\n",
      "v_consol = ap.consol_price(zeta)\n",
      "print(\"Consol Bond Prices: \", v_consol)\n",
      "\n",
      "P_tilde = P * s**(1-gamma)\n",
      "temp = beta * P_tilde.dot(v) + beta * P_tilde.dot(np.ones(n))\n",
      "print(\"Should be 0: \",  v - temp)\n",
      "\n",
      "p_s = 150.0\n",
      "w_bar, w_bars = ap.call_option(zeta, p_s, T = [10,20,30])\n"
     ],
     "language": "python",
     "metadata": {},
     "outputs": [
      {
       "output_type": "stream",
       "stream": "stdout",
       "text": [
        "('Lucas Tree Prices: ', array([ 12.72221763,  14.72515002,  17.57142236,  21.93570661,  29.47401578]))\n",
        "('Consol Bond Prices: ', array([  87.56860139,  109.25108965,  148.67554548,  242.55144082,\n",
        "        753.87100476]))\n",
        "('Should be 0: ', array([ -1.77635684e-15,  -1.77635684e-15,   0.00000000e+00,\n",
        "         0.00000000e+00,   0.00000000e+00]))\n"
       ]
      }
     ],
     "prompt_number": 4
    },
    {
     "cell_type": "code",
     "collapsed": false,
     "input": [],
     "language": "python",
     "metadata": {},
     "outputs": []
    }
   ],
   "metadata": {}
  }
 ]
}