{
 "cells": [
  {
   "cell_type": "markdown",
   "metadata": {},
   "source": [
    "## quant-econ Solutions: Discrete Dynamic Programming"
   ]
  },
  {
   "cell_type": "markdown",
   "metadata": {},
   "source": [
    "Solutions for http://quant-econ.net/py/discrete_dp.html"
   ]
  },
  {
   "cell_type": "markdown",
   "metadata": {},
   "source": [
    "Prepared by **Daisuke Oyama**, Faculty of Economics, University of Tokyo"
   ]
  },
  {
   "cell_type": "markdown",
   "metadata": {},
   "source": [
    "The exercise is to replicate numerically the analytical solution for the benchmark model in  [this lecture](http://quant-econ.net/py/dp_intro.html) of quant-econ, using the `DiscreteDP` class.  "
   ]
  },
  {
   "cell_type": "code",
   "execution_count": 1,
   "metadata": {
    "collapsed": false
   },
   "outputs": [],
   "source": [
    "%matplotlib inline"
   ]
  },
  {
   "cell_type": "code",
   "execution_count": 2,
   "metadata": {
    "collapsed": false
   },
   "outputs": [],
   "source": [
    "from __future__ import division, print_function\n",
    "import numpy as np\n",
    "import scipy.sparse as sparse\n",
    "import matplotlib.pyplot as plt\n",
    "from quantecon.markov import DiscreteDP"
   ]
  },
  {
   "cell_type": "markdown",
   "metadata": {},
   "source": [
    "## Setup"
   ]
  },
  {
   "cell_type": "markdown",
   "metadata": {},
   "source": [
    "Consider the following problem:\n",
    "$$\n",
    "\\begin{aligned}\n",
    "&\\max_{\\{c_t\\}_{t=0}^{\\infty}} \\sum_{t=0}^{\\infty} \\beta^t u(c_t) \\\\\\\\\n",
    "&\\ \\text{ s.t. }\\ k_{t+1} = f(k_t) - c_t,\n",
    " \\quad \\text{$k_0$: given},\n",
    "\\end{aligned}\n",
    "$$\n",
    "where\n",
    "$k_t$ and $c_t$ are the capital stock and consumption at time $t$, respectively,\n",
    "$u$ is the utility function,\n",
    "$f$ is the production function, and\n",
    "$\\beta \\in (0, 1)$ is the discount factor."
   ]
  },
  {
   "cell_type": "markdown",
   "metadata": {},
   "source": [
    "We let $f(k) = k^{\\alpha}$ with $\\alpha = 0.65$, $u(c) = \\log c$, and $\\beta = 0.95$."
   ]
  },
  {
   "cell_type": "code",
   "execution_count": 3,
   "metadata": {
    "collapsed": false
   },
   "outputs": [],
   "source": [
    "alpha = 0.65\n",
    "f = lambda k: k**alpha\n",
    "u = np.log\n",
    "beta = 0.95"
   ]
  },
  {
   "cell_type": "markdown",
   "metadata": {},
   "source": [
    "We discretize the state space into a grid of size `grid_size=1500`,\n",
    "from $10^{-6}$ to `grid_max=2`."
   ]
  },
  {
   "cell_type": "code",
   "execution_count": 4,
   "metadata": {
    "collapsed": false
   },
   "outputs": [],
   "source": [
    "grid_max = 2\n",
    "grid_size = 1500\n",
    "grid = np.linspace(1e-6, grid_max, grid_size)"
   ]
  },
  {
   "cell_type": "code",
   "execution_count": 5,
   "metadata": {
    "collapsed": false
   },
   "outputs": [
    {
     "name": "stdout",
     "output_type": "stream",
     "text": [
      "[  1.00000000e-06   1.33522215e-03   2.66944430e-03 ...,   1.99733156e+00\n",
      "   1.99866578e+00   2.00000000e+00]\n"
     ]
    }
   ],
   "source": [
    "print(grid)"
   ]
  },
  {
   "cell_type": "markdown",
   "metadata": {},
   "source": [
    "We choose the action to be the amount of capital to save for the next period\n",
    "(the state is the capical stock at the beginning of the period).\n",
    "Thus the state indices and the action indices are both `0`, ..., `grid_size-1`.\n",
    "Action (indexed by) `a` is feasible at state (indexed by) `s` if and only if\n",
    "`grid[a] < f([grid[s])`\n",
    "(zero consumption is not allowed)."
   ]
  },
  {
   "cell_type": "markdown",
   "metadata": {},
   "source": [
    "The transition probability array `Q` will be highly sparse\n",
    "(in fact it is degenerate as the model is deterministic),\n",
    "so we formulate the problem with state-action pairs, to represent `Q` in sparse matrix format."
   ]
  },
  {
   "cell_type": "markdown",
   "metadata": {},
   "source": [
    "We first construct indices for state-action pairs:"
   ]
  },
  {
   "cell_type": "code",
   "execution_count": 6,
   "metadata": {
    "collapsed": false
   },
   "outputs": [],
   "source": [
    "# Consumption matrix, with nonpositive consumption included\n",
    "C = f(grid).reshape(grid_size, 1) - grid.reshape(1, grid_size)\n",
    "\n",
    "# State-action indices\n",
    "s_indices, a_indices = np.where(C > 0)\n",
    "\n",
    "# Number of state-action pairs\n",
    "L = len(s_indices)"
   ]
  },
  {
   "cell_type": "code",
   "execution_count": 7,
   "metadata": {
    "collapsed": false
   },
   "outputs": [
    {
     "name": "stdout",
     "output_type": "stream",
     "text": [
      "1069790\n",
      "[   0    1    1 ..., 1499 1499 1499]\n",
      "[   0    0    1 ..., 1174 1175 1176]\n"
     ]
    }
   ],
   "source": [
    "print(L)\n",
    "print(s_indices)\n",
    "print(a_indices)"
   ]
  },
  {
   "cell_type": "markdown",
   "metadata": {},
   "source": [
    "Reward vector `R` (of length `L`):"
   ]
  },
  {
   "cell_type": "code",
   "execution_count": 8,
   "metadata": {
    "collapsed": false
   },
   "outputs": [],
   "source": [
    "R = u(C[s_indices, a_indices])"
   ]
  },
  {
   "cell_type": "markdown",
   "metadata": {},
   "source": [
    "(Degenerate) transition probability matrix `Q` (of shape `(L, grid_size)`):"
   ]
  },
  {
   "cell_type": "code",
   "execution_count": 9,
   "metadata": {
    "collapsed": false
   },
   "outputs": [],
   "source": [
    "Q = sparse.lil_matrix((L, grid_size))\n",
    "Q[np.arange(L), a_indices] = 1"
   ]
  },
  {
   "cell_type": "markdown",
   "metadata": {},
   "source": [
    "Discrete growth model:"
   ]
  },
  {
   "cell_type": "code",
   "execution_count": 10,
   "metadata": {
    "collapsed": false
   },
   "outputs": [],
   "source": [
    "dgm = DiscreteDP(R, Q, beta, s_indices, a_indices)"
   ]
  },
  {
   "cell_type": "markdown",
   "metadata": {},
   "source": [
    "## Solving the model"
   ]
  },
  {
   "cell_type": "markdown",
   "metadata": {},
   "source": [
    "Solve the dynamic optimization problem:"
   ]
  },
  {
   "cell_type": "code",
   "execution_count": 11,
   "metadata": {
    "collapsed": false
   },
   "outputs": [],
   "source": [
    "res = dgm.solve(method='policy_iteration')\n",
    "v, sigma, num_iter = res.v, res.sigma, res.num_iter"
   ]
  },
  {
   "cell_type": "code",
   "execution_count": 12,
   "metadata": {
    "collapsed": false
   },
   "outputs": [
    {
     "data": {
      "text/plain": [
       "14"
      ]
     },
     "execution_count": 12,
     "metadata": {},
     "output_type": "execute_result"
    }
   ],
   "source": [
    "num_iter"
   ]
  },
  {
   "cell_type": "code",
   "execution_count": 13,
   "metadata": {
    "collapsed": false
   },
   "outputs": [],
   "source": [
    "# Optimal consumption in the discrete version\n",
    "c = f(grid) - grid[sigma]"
   ]
  },
  {
   "cell_type": "code",
   "execution_count": 14,
   "metadata": {
    "collapsed": false
   },
   "outputs": [],
   "source": [
    "# Exact solution of the continuous version\n",
    "ab = alpha * beta\n",
    "c1 = (np.log(1 - ab) + np.log(ab) * ab / (1 - ab)) / (1 - beta)\n",
    "c2 = alpha / (1 - ab)\n",
    "def v_star(k):\n",
    "    return c1 + c2 * np.log(k)\n",
    "\n",
    "def c_star(k):\n",
    "    return (1 - ab) * k**alpha"
   ]
  },
  {
   "cell_type": "code",
   "execution_count": 15,
   "metadata": {
    "collapsed": false
   },
   "outputs": [
    {
     "data": {
      "image/png": "[encoded data removed]",
      "text/plain": [
       "<matplotlib.figure.Figure at 0x7f4f1ea7fd50>"
      ]
     },
     "metadata": {},
     "output_type": "display_data"
    }
   ],
   "source": [
    "fig, ax = plt.subplots(1, 2, figsize=(14, 4))\n",
    "ax[0].set_ylim(-40, -32)\n",
    "ax[0].set_xlim(grid[0], grid[-1])\n",
    "ax[1].set_xlim(grid[0], grid[-1])\n",
    "\n",
    "lb0 = 'discrete value function'\n",
    "ax[0].plot(grid, v, lw=2, alpha=0.6, label=lb0)\n",
    "\n",
    "lb0 = 'continuous value function'\n",
    "ax[0].plot(grid, v_star(grid), 'k-', lw=1.5, alpha=0.8, label=lb0)\n",
    "ax[0].legend(loc='upper left')\n",
    "\n",
    "lb1 = 'discrete optimal consumption'\n",
    "ax[1].plot(grid, c, 'b-', lw=2, alpha=0.6, label=lb1)\n",
    "\n",
    "lb1 = 'continuous optimal consumption'\n",
    "ax[1].plot(grid, c_star(grid), 'k-', lw=1.5, alpha=0.8, label=lb1)\n",
    "ax[1].legend(loc='upper left')\n",
    "plt.show()"
   ]
  },
  {
   "cell_type": "markdown",
   "metadata": {},
   "source": [
    "The outcomes appear very close to those of the continuous version."
   ]
  },
  {
   "cell_type": "markdown",
   "metadata": {},
   "source": [
    "Except for the \"boundary\" point, the value functions are very close:"
   ]
  },
  {
   "cell_type": "code",
   "execution_count": 16,
   "metadata": {
    "collapsed": false
   },
   "outputs": [
    {
     "data": {
      "text/plain": [
       "121.49819147053378"
      ]
     },
     "execution_count": 16,
     "metadata": {},
     "output_type": "execute_result"
    }
   ],
   "source": [
    "np.abs(v - v_star(grid)).max()"
   ]
  },
  {
   "cell_type": "code",
   "execution_count": 17,
   "metadata": {
    "collapsed": false
   },
   "outputs": [
    {
     "data": {
      "text/plain": [
       "0.0038595076780651993"
      ]
     },
     "execution_count": 17,
     "metadata": {},
     "output_type": "execute_result"
    }
   ],
   "source": [
    "np.abs(v - v_star(grid))[1:].max()"
   ]
  },
  {
   "cell_type": "markdown",
   "metadata": {},
   "source": [
    "The optimal consumption functions are close as well:"
   ]
  },
  {
   "cell_type": "code",
   "execution_count": 18,
   "metadata": {
    "collapsed": false
   },
   "outputs": [
    {
     "data": {
      "text/plain": [
       "0.0013020872868430011"
      ]
     },
     "execution_count": 18,
     "metadata": {},
     "output_type": "execute_result"
    }
   ],
   "source": [
    "np.abs(c - c_star(grid)).max()"
   ]
  },
  {
   "cell_type": "markdown",
   "metadata": {},
   "source": [
    "In fact, the optimal consumption obtained in the discrete version is not really monotone,\n",
    "but the decrements are quit small:"
   ]
  },
  {
   "cell_type": "code",
   "execution_count": 19,
   "metadata": {
    "collapsed": false
   },
   "outputs": [
    {
     "data": {
      "text/plain": [
       "False"
      ]
     },
     "execution_count": 19,
     "metadata": {},
     "output_type": "execute_result"
    }
   ],
   "source": [
    "diff = np.diff(c)\n",
    "(diff >= 0).all()"
   ]
  },
  {
   "cell_type": "code",
   "execution_count": 20,
   "metadata": {
    "collapsed": false
   },
   "outputs": [],
   "source": [
    "dec_ind = np.where(diff < 0)[0]"
   ]
  },
  {
   "cell_type": "code",
   "execution_count": 21,
   "metadata": {
    "collapsed": false
   },
   "outputs": [
    {
     "data": {
      "text/plain": [
       "521"
      ]
     },
     "execution_count": 21,
     "metadata": {},
     "output_type": "execute_result"
    }
   ],
   "source": [
    "len(dec_ind)"
   ]
  },
  {
   "cell_type": "code",
   "execution_count": 22,
   "metadata": {
    "collapsed": false
   },
   "outputs": [
    {
     "data": {
      "text/plain": [
       "0.00065355751082307734"
      ]
     },
     "execution_count": 22,
     "metadata": {},
     "output_type": "execute_result"
    }
   ],
   "source": [
    "np.abs(diff[dec_ind]).max()"
   ]
  },
  {
   "cell_type": "markdown",
   "metadata": {},
   "source": [
    "The value function is monotone:"
   ]
  },
  {
   "cell_type": "code",
   "execution_count": 23,
   "metadata": {
    "collapsed": false
   },
   "outputs": [
    {
     "data": {
      "text/plain": [
       "True"
      ]
     },
     "execution_count": 23,
     "metadata": {},
     "output_type": "execute_result"
    }
   ],
   "source": [
    "(np.diff(v) > 0).all()"
   ]
  },
  {
   "cell_type": "markdown",
   "metadata": {},
   "source": [
    "## Comparison of the solution methods"
   ]
  },
  {
   "cell_type": "markdown",
   "metadata": {},
   "source": [
    "### Value iteration"
   ]
  },
  {
   "cell_type": "code",
   "execution_count": 24,
   "metadata": {
    "collapsed": false
   },
   "outputs": [],
   "source": [
    "dgm.epsilon = 1e-4\n",
    "dgm.max_iter = 500\n",
    "res1 = dgm.solve(method='value_iteration')"
   ]
  },
  {
   "cell_type": "code",
   "execution_count": 25,
   "metadata": {
    "collapsed": false
   },
   "outputs": [
    {
     "data": {
      "text/plain": [
       "294"
      ]
     },
     "execution_count": 25,
     "metadata": {},
     "output_type": "execute_result"
    }
   ],
   "source": [
    "res1.num_iter"
   ]
  },
  {
   "cell_type": "code",
   "execution_count": 26,
   "metadata": {
    "collapsed": false
   },
   "outputs": [
    {
     "data": {
      "text/plain": [
       "True"
      ]
     },
     "execution_count": 26,
     "metadata": {},
     "output_type": "execute_result"
    }
   ],
   "source": [
    "np.array_equal(sigma, res1.sigma)"
   ]
  },
  {
   "cell_type": "markdown",
   "metadata": {},
   "source": [
    "### Modified policy iteration"
   ]
  },
  {
   "cell_type": "code",
   "execution_count": 27,
   "metadata": {
    "collapsed": false
   },
   "outputs": [],
   "source": [
    "res2 = dgm.solve(method='modified_policy_iteration')"
   ]
  },
  {
   "cell_type": "code",
   "execution_count": 28,
   "metadata": {
    "collapsed": false
   },
   "outputs": [
    {
     "data": {
      "text/plain": [
       "16"
      ]
     },
     "execution_count": 28,
     "metadata": {},
     "output_type": "execute_result"
    }
   ],
   "source": [
    "res2.num_iter"
   ]
  },
  {
   "cell_type": "code",
   "execution_count": 29,
   "metadata": {
    "collapsed": false
   },
   "outputs": [
    {
     "data": {
      "text/plain": [
       "True"
      ]
     },
     "execution_count": 29,
     "metadata": {},
     "output_type": "execute_result"
    }
   ],
   "source": [
    "np.array_equal(sigma, res2.sigma)"
   ]
  },
  {
   "cell_type": "markdown",
   "metadata": {},
   "source": [
    "### Speed comparison"
   ]
  },
  {
   "cell_type": "code",
   "execution_count": 30,
   "metadata": {
    "collapsed": false
   },
   "outputs": [
    {
     "name": "stdout",
     "output_type": "stream",
     "text": [
      "1 loops, best of 3: 7.2 s per loop\n",
      "1 loops, best of 3: 467 ms per loop\n",
      "1 loops, best of 3: 488 ms per loop\n"
     ]
    }
   ],
   "source": [
    "%timeit dgm.solve(method='value_iteration')\n",
    "%timeit dgm.solve(method='policy_iteration')\n",
    "%timeit dgm.solve(method='modified_policy_iteration')"
   ]
  },
  {
   "cell_type": "markdown",
   "metadata": {},
   "source": [
    "## Dynamics of the capital stock"
   ]
  },
  {
   "cell_type": "markdown",
   "metadata": {},
   "source": [
    "Let us work on [Exercise 2](http://quant-econ.net/py/dp_intro.html#exercise-2),\n",
    "where we plot the trajectories of the capital stock for three different discount factors,\n",
    "$0.9$, $0.94$, and $0.98$, with initial condition $k_0 = 0.1$."
   ]
  },
  {
   "cell_type": "code",
   "execution_count": 33,
   "metadata": {
    "collapsed": false
   },
   "outputs": [
    {
     "data": {
      "image/png": "[encoded data removed]",
      "text/plain": [
       "<matplotlib.figure.Figure at 0x7f4f1e6958d0>"
      ]
     },
     "metadata": {},
     "output_type": "display_data"
    }
   ],
   "source": [
    "discount_factors = (0.9, 0.94, 0.98)\n",
    "k_init = 0.1\n",
    "\n",
    "# Search for the index corresponding to k_init\n",
    "k_init_ind = np.searchsorted(grid, k_init)\n",
    "\n",
    "sample_size = 25\n",
    "\n",
    "fig, ax = plt.subplots(figsize=(8,5))\n",
    "ax.set_xlabel(\"time\")\n",
    "ax.set_ylabel(\"capital\")\n",
    "ax.set_ylim(0.10, 0.30)\n",
    "\n",
    "for beta in discount_factors:\n",
    "    dgm.beta = beta\n",
    "    res = dgm.solve()\n",
    "    k_sim_ind = res.mc.simulate(init=k_init_ind, ts_length=sample_size)\n",
    "    k_sim = grid[k_sim_ind]\n",
    "    ax.plot(k_sim, 'o-', lw=2, alpha=0.75, label=r'$\\beta = {}$'.format(beta))\n",
    "\n",
    "ax.legend(loc='lower right')\n",
    "plt.show()"
   ]
  }
 ],
 "metadata": {
  "kernelspec": {
   "display_name": "Python 2",
   "language": "python",
   "name": "python2"
  },
  "language_info": {
   "codemirror_mode": {
    "name": "ipython",
    "version": 2
   },
   "file_extension": ".py",
   "mimetype": "text/x-python",
   "name": "python",
   "nbconvert_exporter": "python",
   "pygments_lexer": "ipython2",
   "version": "2.7.10"
  }
 },
 "nbformat": 4,
 "nbformat_minor": 0
}
